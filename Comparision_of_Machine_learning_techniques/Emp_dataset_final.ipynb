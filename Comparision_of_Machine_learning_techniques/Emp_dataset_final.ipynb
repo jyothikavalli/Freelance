{
 "cells": [
  {
   "cell_type": "code",
   "execution_count": 1,
   "id": "968f03da",
   "metadata": {},
   "outputs": [],
   "source": [
    "# Importing all the necesary libraries\n",
    "import warnings\n",
    "warnings.filterwarnings('ignore')\n",
    "import pandas as pd\n",
    "import numpy as np\n",
    "from sklearn.preprocessing import StandardScaler, MinMaxScaler, LabelEncoder\n",
    "from sklearn.decomposition import PCA\n",
    "from sklearn.model_selection import train_test_split\n",
    "from sklearn.compose import ColumnTransformer\n",
    "from sklearn.preprocessing import OneHotEncoder\n",
    "from sklearn.pipeline import Pipeline\n",
    "import matplotlib.pyplot as plt\n",
    "import seaborn as sns\n",
    "from sklearn.svm import SVC\n",
    "from sklearn.tree import DecisionTreeClassifier\n",
    "from sklearn.metrics import accuracy_score, classification_report, mean_squared_error, mean_absolute_error, r2_score\n",
    "from sklearn.preprocessing import StandardScaler, OneHotEncoder\n",
    "from sklearn.decomposition import PCA\n",
    "import xgboost as xgb"
   ]
  },
  {
   "cell_type": "code",
   "execution_count": 2,
   "id": "785e4120",
   "metadata": {},
   "outputs": [],
   "source": [
    "# Loading the dataset\n",
    "df = pd.read_csv(r\"C:\\Users\\mdnih\\Downloads\\Employee.csv\",encoding='utf-8')"
   ]
  },
  {
   "cell_type": "code",
   "execution_count": 3,
   "id": "dd3ce42f",
   "metadata": {},
   "outputs": [
    {
     "data": {
      "text/html": [
       "<div>\n",
       "<style scoped>\n",
       "    .dataframe tbody tr th:only-of-type {\n",
       "        vertical-align: middle;\n",
       "    }\n",
       "\n",
       "    .dataframe tbody tr th {\n",
       "        vertical-align: top;\n",
       "    }\n",
       "\n",
       "    .dataframe thead th {\n",
       "        text-align: right;\n",
       "    }\n",
       "</style>\n",
       "<table border=\"1\" class=\"dataframe\">\n",
       "  <thead>\n",
       "    <tr style=\"text-align: right;\">\n",
       "      <th></th>\n",
       "      <th>Education</th>\n",
       "      <th>JoiningYear</th>\n",
       "      <th>City</th>\n",
       "      <th>PaymentTier</th>\n",
       "      <th>Age</th>\n",
       "      <th>Gender</th>\n",
       "      <th>EverBenched</th>\n",
       "      <th>ExperienceInCurrentDomain</th>\n",
       "      <th>LeaveOrNot</th>\n",
       "    </tr>\n",
       "  </thead>\n",
       "  <tbody>\n",
       "    <tr>\n",
       "      <th>0</th>\n",
       "      <td>Bachelors</td>\n",
       "      <td>2017</td>\n",
       "      <td>Bangalore</td>\n",
       "      <td>3</td>\n",
       "      <td>34</td>\n",
       "      <td>Male</td>\n",
       "      <td>No</td>\n",
       "      <td>0</td>\n",
       "      <td>0</td>\n",
       "    </tr>\n",
       "    <tr>\n",
       "      <th>1</th>\n",
       "      <td>Bachelors</td>\n",
       "      <td>2013</td>\n",
       "      <td>Pune</td>\n",
       "      <td>1</td>\n",
       "      <td>28</td>\n",
       "      <td>Female</td>\n",
       "      <td>No</td>\n",
       "      <td>3</td>\n",
       "      <td>1</td>\n",
       "    </tr>\n",
       "    <tr>\n",
       "      <th>2</th>\n",
       "      <td>Bachelors</td>\n",
       "      <td>2014</td>\n",
       "      <td>New Delhi</td>\n",
       "      <td>3</td>\n",
       "      <td>38</td>\n",
       "      <td>Female</td>\n",
       "      <td>No</td>\n",
       "      <td>2</td>\n",
       "      <td>0</td>\n",
       "    </tr>\n",
       "    <tr>\n",
       "      <th>3</th>\n",
       "      <td>Masters</td>\n",
       "      <td>2016</td>\n",
       "      <td>Bangalore</td>\n",
       "      <td>3</td>\n",
       "      <td>27</td>\n",
       "      <td>Male</td>\n",
       "      <td>No</td>\n",
       "      <td>5</td>\n",
       "      <td>1</td>\n",
       "    </tr>\n",
       "    <tr>\n",
       "      <th>4</th>\n",
       "      <td>Masters</td>\n",
       "      <td>2017</td>\n",
       "      <td>Pune</td>\n",
       "      <td>3</td>\n",
       "      <td>24</td>\n",
       "      <td>Male</td>\n",
       "      <td>Yes</td>\n",
       "      <td>2</td>\n",
       "      <td>1</td>\n",
       "    </tr>\n",
       "  </tbody>\n",
       "</table>\n",
       "</div>"
      ],
      "text/plain": [
       "   Education  JoiningYear       City  PaymentTier  Age  Gender EverBenched  \\\n",
       "0  Bachelors         2017  Bangalore            3   34    Male          No   \n",
       "1  Bachelors         2013       Pune            1   28  Female          No   \n",
       "2  Bachelors         2014  New Delhi            3   38  Female          No   \n",
       "3    Masters         2016  Bangalore            3   27    Male          No   \n",
       "4    Masters         2017       Pune            3   24    Male         Yes   \n",
       "\n",
       "   ExperienceInCurrentDomain  LeaveOrNot  \n",
       "0                          0           0  \n",
       "1                          3           1  \n",
       "2                          2           0  \n",
       "3                          5           1  \n",
       "4                          2           1  "
      ]
     },
     "execution_count": 3,
     "metadata": {},
     "output_type": "execute_result"
    }
   ],
   "source": [
    "# Fetching first five rows in the dataset\n",
    "df.head()"
   ]
  },
  {
   "cell_type": "code",
   "execution_count": 4,
   "id": "400070ab",
   "metadata": {},
   "outputs": [
    {
     "name": "stdout",
     "output_type": "stream",
     "text": [
      "<class 'pandas.core.frame.DataFrame'>\n",
      "RangeIndex: 4653 entries, 0 to 4652\n",
      "Data columns (total 9 columns):\n",
      " #   Column                     Non-Null Count  Dtype \n",
      "---  ------                     --------------  ----- \n",
      " 0   Education                  4653 non-null   object\n",
      " 1   JoiningYear                4653 non-null   int64 \n",
      " 2   City                       4653 non-null   object\n",
      " 3   PaymentTier                4653 non-null   int64 \n",
      " 4   Age                        4653 non-null   int64 \n",
      " 5   Gender                     4653 non-null   object\n",
      " 6   EverBenched                4653 non-null   object\n",
      " 7   ExperienceInCurrentDomain  4653 non-null   int64 \n",
      " 8   LeaveOrNot                 4653 non-null   int64 \n",
      "dtypes: int64(5), object(4)\n",
      "memory usage: 327.3+ KB\n"
     ]
    }
   ],
   "source": [
    "# Information about the dataset\n",
    "df.info()"
   ]
  },
  {
   "cell_type": "code",
   "execution_count": 5,
   "id": "9d485b68",
   "metadata": {},
   "outputs": [
    {
     "name": "stdout",
     "output_type": "stream",
     "text": [
      "Number of independent variables: 8\n",
      "Number of dependent variables: 1\n"
     ]
    }
   ],
   "source": [
    "# Finding the dependent and independent variables in the dataset\n",
    "features = df.drop(columns=['LeaveOrNot'])  \n",
    "target = df['LeaveOrNot']  \n",
    "\n",
    "num_independent_vars = features.shape[1]\n",
    "num_dependent_vars = 1  # Usually 1 if a single target\n",
    "\n",
    "print(f\"Number of independent variables: {num_independent_vars}\")\n",
    "print(f\"Number of dependent variables: {num_dependent_vars}\")"
   ]
  },
  {
   "cell_type": "code",
   "execution_count": 6,
   "id": "3379501c",
   "metadata": {},
   "outputs": [
    {
     "data": {
      "text/plain": [
       "<Axes: >"
      ]
     },
     "execution_count": 6,
     "metadata": {},
     "output_type": "execute_result"
    },
    {
     "data": {
      "image/png": "[encoded data removed]",
      "text/plain": [
       "<Figure size 640x480 with 1 Axes>"
      ]
     },
     "metadata": {},
     "output_type": "display_data"
    }
   ],
   "source": [
    "df['ExperienceInCurrentDomain'].hist()"
   ]
  },
  {
   "cell_type": "code",
   "execution_count": 7,
   "id": "03abe821",
   "metadata": {},
   "outputs": [
    {
     "data": {
      "text/plain": [
       "4653"
      ]
     },
     "execution_count": 7,
     "metadata": {},
     "output_type": "execute_result"
    }
   ],
   "source": [
    "# To find the total number of records in the dataset\n",
    "# Checking count before cleaning the dataset\n",
    "total_records = df.shape[0]\n",
    "total_records"
   ]
  },
  {
   "cell_type": "code",
   "execution_count": 8,
   "id": "0f3a8c7f",
   "metadata": {},
   "outputs": [
    {
     "name": "stdout",
     "output_type": "stream",
     "text": [
      "Education                    object\n",
      "JoiningYear                   int64\n",
      "City                         object\n",
      "PaymentTier                   int64\n",
      "Age                           int64\n",
      "Gender                       object\n",
      "EverBenched                  object\n",
      "ExperienceInCurrentDomain     int64\n",
      "LeaveOrNot                    int64\n",
      "dtype: object\n",
      "Binary Columns: ['Gender', 'EverBenched', 'LeaveOrNot']\n",
      "Categorical Columns: Index(['Education', 'City', 'Gender', 'EverBenched'], dtype='object')\n",
      "Numerical Columns: Index(['JoiningYear', 'PaymentTier', 'Age', 'ExperienceInCurrentDomain',\n",
      "       'LeaveOrNot'],\n",
      "      dtype='object')\n",
      "Textual Columns: Index(['Education', 'City', 'Gender', 'EverBenched'], dtype='object')\n"
     ]
    }
   ],
   "source": [
    "# Finding datstypes of each column in the dataset\n",
    "data_types = df.dtypes\n",
    "print(data_types)\n",
    "\n",
    "# For specific types in the dataset\n",
    "binary_cols = [col for col in df.columns if df[col].nunique() == 2]\n",
    "categorical_cols = df.select_dtypes(include=['category', 'object']).columns\n",
    "numerical_cols = df.select_dtypes(include=['number']).columns\n",
    "textual_cols = df.select_dtypes(include=['object']).columns\n",
    "\n",
    "print(f\"Binary Columns: {binary_cols}\")\n",
    "print(f\"Categorical Columns: {categorical_cols}\")\n",
    "print(f\"Numerical Columns: {numerical_cols}\")\n",
    "print(f\"Textual Columns: {textual_cols}\")"
   ]
  },
  {
   "cell_type": "code",
   "execution_count": 9,
   "id": "b238368c",
   "metadata": {},
   "outputs": [
    {
     "data": {
      "text/html": [
       "<div>\n",
       "<style scoped>\n",
       "    .dataframe tbody tr th:only-of-type {\n",
       "        vertical-align: middle;\n",
       "    }\n",
       "\n",
       "    .dataframe tbody tr th {\n",
       "        vertical-align: top;\n",
       "    }\n",
       "\n",
       "    .dataframe thead th {\n",
       "        text-align: right;\n",
       "    }\n",
       "</style>\n",
       "<table border=\"1\" class=\"dataframe\">\n",
       "  <thead>\n",
       "    <tr style=\"text-align: right;\">\n",
       "      <th></th>\n",
       "      <th>JoiningYear</th>\n",
       "      <th>PaymentTier</th>\n",
       "      <th>Age</th>\n",
       "      <th>ExperienceInCurrentDomain</th>\n",
       "      <th>LeaveOrNot</th>\n",
       "    </tr>\n",
       "  </thead>\n",
       "  <tbody>\n",
       "    <tr>\n",
       "      <th>count</th>\n",
       "      <td>4653.000000</td>\n",
       "      <td>4653.000000</td>\n",
       "      <td>4653.000000</td>\n",
       "      <td>4653.000000</td>\n",
       "      <td>4653.000000</td>\n",
       "    </tr>\n",
       "    <tr>\n",
       "      <th>mean</th>\n",
       "      <td>2015.062970</td>\n",
       "      <td>2.698259</td>\n",
       "      <td>29.393295</td>\n",
       "      <td>2.905652</td>\n",
       "      <td>0.343864</td>\n",
       "    </tr>\n",
       "    <tr>\n",
       "      <th>std</th>\n",
       "      <td>1.863377</td>\n",
       "      <td>0.561435</td>\n",
       "      <td>4.826087</td>\n",
       "      <td>1.558240</td>\n",
       "      <td>0.475047</td>\n",
       "    </tr>\n",
       "    <tr>\n",
       "      <th>min</th>\n",
       "      <td>2012.000000</td>\n",
       "      <td>1.000000</td>\n",
       "      <td>22.000000</td>\n",
       "      <td>0.000000</td>\n",
       "      <td>0.000000</td>\n",
       "    </tr>\n",
       "    <tr>\n",
       "      <th>25%</th>\n",
       "      <td>2013.000000</td>\n",
       "      <td>3.000000</td>\n",
       "      <td>26.000000</td>\n",
       "      <td>2.000000</td>\n",
       "      <td>0.000000</td>\n",
       "    </tr>\n",
       "    <tr>\n",
       "      <th>50%</th>\n",
       "      <td>2015.000000</td>\n",
       "      <td>3.000000</td>\n",
       "      <td>28.000000</td>\n",
       "      <td>3.000000</td>\n",
       "      <td>0.000000</td>\n",
       "    </tr>\n",
       "    <tr>\n",
       "      <th>75%</th>\n",
       "      <td>2017.000000</td>\n",
       "      <td>3.000000</td>\n",
       "      <td>32.000000</td>\n",
       "      <td>4.000000</td>\n",
       "      <td>1.000000</td>\n",
       "    </tr>\n",
       "    <tr>\n",
       "      <th>max</th>\n",
       "      <td>2018.000000</td>\n",
       "      <td>3.000000</td>\n",
       "      <td>41.000000</td>\n",
       "      <td>7.000000</td>\n",
       "      <td>1.000000</td>\n",
       "    </tr>\n",
       "  </tbody>\n",
       "</table>\n",
       "</div>"
      ],
      "text/plain": [
       "       JoiningYear  PaymentTier          Age  ExperienceInCurrentDomain  \\\n",
       "count  4653.000000  4653.000000  4653.000000                4653.000000   \n",
       "mean   2015.062970     2.698259    29.393295                   2.905652   \n",
       "std       1.863377     0.561435     4.826087                   1.558240   \n",
       "min    2012.000000     1.000000    22.000000                   0.000000   \n",
       "25%    2013.000000     3.000000    26.000000                   2.000000   \n",
       "50%    2015.000000     3.000000    28.000000                   3.000000   \n",
       "75%    2017.000000     3.000000    32.000000                   4.000000   \n",
       "max    2018.000000     3.000000    41.000000                   7.000000   \n",
       "\n",
       "        LeaveOrNot  \n",
       "count  4653.000000  \n",
       "mean      0.343864  \n",
       "std       0.475047  \n",
       "min       0.000000  \n",
       "25%       0.000000  \n",
       "50%       0.000000  \n",
       "75%       1.000000  \n",
       "max       1.000000  "
      ]
     },
     "execution_count": 9,
     "metadata": {},
     "output_type": "execute_result"
    }
   ],
   "source": [
    "# Finding summary of each variable in the dataset\n",
    "summary_statistics = df.describe()\n",
    "summary_statistics"
   ]
  },
  {
   "cell_type": "code",
   "execution_count": 10,
   "id": "29d9292f",
   "metadata": {},
   "outputs": [
    {
     "name": "stdout",
     "output_type": "stream",
     "text": [
      "Number of missing values: 0\n",
      "Proportion of missing values: 0.00%\n"
     ]
    }
   ],
   "source": [
    "# Check for missing values\n",
    "missing_values = df.isnull().sum()\n",
    "\n",
    "# Calculate the proportion of missing values\n",
    "total_cells = np.product(df.shape)\n",
    "total_missing = missing_values.sum()\n",
    "proportion_missing = total_missing / total_cells\n",
    "\n",
    "print(f\"Number of missing values: {total_missing}\")\n",
    "print(f\"Proportion of missing values: {proportion_missing:.2%}\")"
   ]
  },
  {
   "cell_type": "code",
   "execution_count": 11,
   "id": "bc02a76c",
   "metadata": {},
   "outputs": [
    {
     "name": "stdout",
     "output_type": "stream",
     "text": [
      "Removed 1889 duplicate rows.\n"
     ]
    }
   ],
   "source": [
    "#data cleaning\n",
    "# Filling missing numerical values with the mean\n",
    "for column in df.select_dtypes(include=['int64', 'float64']).columns:\n",
    "    df[column].fillna(df[column].mean(), inplace=True)\n",
    "\n",
    "# Filling missing categorical values with the mode\n",
    "for column in df.select_dtypes(include=['object']).columns:\n",
    "    mode_value = df[column].mode()[0]\n",
    "    df[column].fillna(mode_value, inplace=True)\n",
    "\n",
    "# Remove duplicate rows\n",
    "initial_row_count = len(df)\n",
    "df.drop_duplicates(inplace=True)\n",
    "removed_duplicates_count = initial_row_count - len(df)\n",
    "\n",
    "\n",
    "print(f\"Removed {removed_duplicates_count} duplicate rows.\")"
   ]
  },
  {
   "cell_type": "code",
   "execution_count": 12,
   "id": "166e267f",
   "metadata": {},
   "outputs": [
    {
     "data": {
      "text/plain": [
       "Education                    2764\n",
       "JoiningYear                  2764\n",
       "City                         2764\n",
       "PaymentTier                  2764\n",
       "Age                          2764\n",
       "Gender                       2764\n",
       "EverBenched                  2764\n",
       "ExperienceInCurrentDomain    2764\n",
       "LeaveOrNot                   2764\n",
       "dtype: int64"
      ]
     },
     "execution_count": 12,
     "metadata": {},
     "output_type": "execute_result"
    }
   ],
   "source": [
    "# Checking count after cleaning the dataset\n",
    "df.count()"
   ]
  },
  {
   "cell_type": "code",
   "execution_count": 37,
   "id": "28fd8831",
   "metadata": {},
   "outputs": [
    {
     "data": {
      "image/png": "[encoded data removed]",
      "text/plain": [
       "<Figure size 640x480 with 1 Axes>"
      ]
     },
     "metadata": {},
     "output_type": "display_data"
    },
    {
     "data": {
      "image/png": "[encoded data removed]",
      "text/plain": [
       "<Figure size 640x480 with 1 Axes>"
      ]
     },
     "metadata": {},
     "output_type": "display_data"
    }
   ],
   "source": [
    "# Checking the data and transorming the data using sqrt-method\n",
    "\n",
    "sqrt_data = np.sqrt(df['ExperienceInCurrentDomain'])\n",
    "\n",
    "# Plotting the original data and the Square root-transformed data\n",
    "\n",
    "plt.hist(df['ExperienceInCurrentDomain'], bins=50, label='Original Data')\n",
    "plt.title('ExperienceInCurrentDomain')\n",
    "plt.legend()\n",
    "plt.show()\n",
    "plt.hist(sqrt_data, bins=50, label='Square root-Transformed Data')\n",
    "plt.title('ExperienceInCurrentDomain')\n",
    "plt.legend()\n",
    "plt.show()"
   ]
  },
  {
   "cell_type": "code",
   "execution_count": null,
   "id": "172b16f6",
   "metadata": {},
   "outputs": [],
   "source": []
  },
  {
   "cell_type": "code",
   "execution_count": 15,
   "id": "bd9976d4",
   "metadata": {},
   "outputs": [],
   "source": [
    "#removing null values of City since it is a very minor percentage of the dataset\n",
    "df_cleaned = df.dropna(subset=['City'])"
   ]
  },
  {
   "cell_type": "code",
   "execution_count": 16,
   "id": "11b75971",
   "metadata": {},
   "outputs": [
    {
     "data": {
      "text/html": [
       "<div>\n",
       "<style scoped>\n",
       "    .dataframe tbody tr th:only-of-type {\n",
       "        vertical-align: middle;\n",
       "    }\n",
       "\n",
       "    .dataframe tbody tr th {\n",
       "        vertical-align: top;\n",
       "    }\n",
       "\n",
       "    .dataframe thead th {\n",
       "        text-align: right;\n",
       "    }\n",
       "</style>\n",
       "<table border=\"1\" class=\"dataframe\">\n",
       "  <thead>\n",
       "    <tr style=\"text-align: right;\">\n",
       "      <th></th>\n",
       "      <th>JoiningYear</th>\n",
       "      <th>PaymentTier</th>\n",
       "      <th>Age</th>\n",
       "      <th>ExperienceInCurrentDomain</th>\n",
       "      <th>LeaveOrNot</th>\n",
       "    </tr>\n",
       "  </thead>\n",
       "  <tbody>\n",
       "    <tr>\n",
       "      <th>JoiningYear</th>\n",
       "      <td>1.000000</td>\n",
       "      <td>-0.053823</td>\n",
       "      <td>0.024445</td>\n",
       "      <td>-0.031228</td>\n",
       "      <td>0.150650</td>\n",
       "    </tr>\n",
       "    <tr>\n",
       "      <th>PaymentTier</th>\n",
       "      <td>-0.053823</td>\n",
       "      <td>1.000000</td>\n",
       "      <td>0.067514</td>\n",
       "      <td>-0.004602</td>\n",
       "      <td>-0.119891</td>\n",
       "    </tr>\n",
       "    <tr>\n",
       "      <th>Age</th>\n",
       "      <td>0.024445</td>\n",
       "      <td>0.067514</td>\n",
       "      <td>1.000000</td>\n",
       "      <td>-0.053276</td>\n",
       "      <td>-0.114943</td>\n",
       "    </tr>\n",
       "    <tr>\n",
       "      <th>ExperienceInCurrentDomain</th>\n",
       "      <td>-0.031228</td>\n",
       "      <td>-0.004602</td>\n",
       "      <td>-0.053276</td>\n",
       "      <td>1.000000</td>\n",
       "      <td>-0.021181</td>\n",
       "    </tr>\n",
       "    <tr>\n",
       "      <th>LeaveOrNot</th>\n",
       "      <td>0.150650</td>\n",
       "      <td>-0.119891</td>\n",
       "      <td>-0.114943</td>\n",
       "      <td>-0.021181</td>\n",
       "      <td>1.000000</td>\n",
       "    </tr>\n",
       "  </tbody>\n",
       "</table>\n",
       "</div>"
      ],
      "text/plain": [
       "                           JoiningYear  PaymentTier       Age  \\\n",
       "JoiningYear                   1.000000    -0.053823  0.024445   \n",
       "PaymentTier                  -0.053823     1.000000  0.067514   \n",
       "Age                           0.024445     0.067514  1.000000   \n",
       "ExperienceInCurrentDomain    -0.031228    -0.004602 -0.053276   \n",
       "LeaveOrNot                    0.150650    -0.119891 -0.114943   \n",
       "\n",
       "                           ExperienceInCurrentDomain  LeaveOrNot  \n",
       "JoiningYear                                -0.031228    0.150650  \n",
       "PaymentTier                                -0.004602   -0.119891  \n",
       "Age                                        -0.053276   -0.114943  \n",
       "ExperienceInCurrentDomain                   1.000000   -0.021181  \n",
       "LeaveOrNot                                 -0.021181    1.000000  "
      ]
     },
     "execution_count": 16,
     "metadata": {},
     "output_type": "execute_result"
    }
   ],
   "source": [
    "df_cleaned.corr()"
   ]
  },
  {
   "cell_type": "code",
   "execution_count": 17,
   "id": "277ca26e",
   "metadata": {},
   "outputs": [
    {
     "data": {
      "text/plain": [
       "Education                    0\n",
       "JoiningYear                  0\n",
       "City                         0\n",
       "PaymentTier                  0\n",
       "Age                          0\n",
       "Gender                       0\n",
       "EverBenched                  0\n",
       "ExperienceInCurrentDomain    0\n",
       "LeaveOrNot                   0\n",
       "dtype: int64"
      ]
     },
     "execution_count": 17,
     "metadata": {},
     "output_type": "execute_result"
    }
   ],
   "source": [
    "# Finding missing values in the dataset\n",
    "df_cleaned.isnull().sum()"
   ]
  },
  {
   "cell_type": "code",
   "execution_count": null,
   "id": "c6fe310d",
   "metadata": {},
   "outputs": [],
   "source": []
  },
  {
   "cell_type": "code",
   "execution_count": 20,
   "id": "0e610fe9",
   "metadata": {},
   "outputs": [
    {
     "data": {
      "text/plain": [
       "(array([0.23232987, 0.18082088, 0.16434205, 0.15781466, 0.1443968 ,\n",
       "        0.12029574]),\n",
       " array([0.23232987, 0.41315075, 0.5774928 , 0.73530746, 0.87970426,\n",
       "        1.        ]))"
      ]
     },
     "execution_count": 20,
     "metadata": {},
     "output_type": "execute_result"
    }
   ],
   "source": [
    "# Encode the 'Gender' column to numeric values: Male = 0, Female = 1\n",
    "df['Gender'] = df['Gender'].map({'Male': 0, 'Female': 1})\n",
    "\n",
    "# Selecting relevant columns for PCA\n",
    "features = ['Gender', 'Age', 'ExperienceInCurrentDomain', 'PaymentTier', 'LeaveOrNot', 'JoiningYear']\n",
    "X = df[features]\n",
    "\n",
    "# Standardizing the features\n",
    "scaler = StandardScaler()\n",
    "X_scaled = scaler.fit_transform(X)\n",
    "\n",
    "# Performing PCA\n",
    "pca = PCA()\n",
    "X_pca = pca.fit_transform(X_scaled)\n",
    "\n",
    "# Proportion of variance explained by each component\n",
    "explained_variance_ratio = pca.explained_variance_ratio_\n",
    "explained_variance_ratio_cumsum = explained_variance_ratio.cumsum()\n",
    "\n",
    "explained_variance_ratio, explained_variance_ratio_cumsum"
   ]
  },
  {
   "cell_type": "code",
   "execution_count": 32,
   "id": "d9300eed",
   "metadata": {},
   "outputs": [
    {
     "name": "stdout",
     "output_type": "stream",
     "text": [
      "Number of outliers in 'ExperienceInCurrentDomain': 0\n"
     ]
    }
   ],
   "source": [
    "#Q1 and Q3  for Work Experience\n",
    "Q1 = df['ExperienceInCurrentDomain'].quantile(0.25)\n",
    "Q3 = df['ExperienceInCurrentDomain'].quantile(0.75)\n",
    "IQR = Q3 - Q1\n",
    "\n",
    "# upper and lower bounds for outliers\n",
    "lower_bound = Q1 - 1.5 * IQR\n",
    "upper_bound = Q3 + 1.5 * IQR\n",
    "\n",
    "# count of outliers\n",
    "outliers_count = df[(df['ExperienceInCurrentDomain'] < lower_bound) | (df['ExperienceInCurrentDomain'] > upper_bound)].shape[0]\n",
    "print(f\"Number of outliers in 'ExperienceInCurrentDomain': {outliers_count}\")"
   ]
  },
  {
   "cell_type": "code",
   "execution_count": null,
   "id": "dd9c4ae6",
   "metadata": {},
   "outputs": [],
   "source": []
  },
  {
   "cell_type": "code",
   "execution_count": 33,
   "id": "df5bab3e",
   "metadata": {},
   "outputs": [
    {
     "data": {
      "text/plain": [
       "0    1676\n",
       "1    1088\n",
       "Name: LeaveOrNot, dtype: int64"
      ]
     },
     "execution_count": 33,
     "metadata": {},
     "output_type": "execute_result"
    }
   ],
   "source": [
    "df['LeaveOrNot'].value_counts()"
   ]
  },
  {
   "cell_type": "markdown",
   "id": "e6e51279",
   "metadata": {},
   "source": [
    "### SVM using Sklearn"
   ]
  },
  {
   "cell_type": "code",
   "execution_count": 30,
   "id": "c9e79559",
   "metadata": {},
   "outputs": [
    {
     "name": "stdout",
     "output_type": "stream",
     "text": [
      "SVM Accuracy: 0.7807228915662651\n",
      "              precision    recall  f1-score   support\n",
      "\n",
      "           0       0.76      0.92      0.83       499\n",
      "           1       0.83      0.57      0.68       331\n",
      "\n",
      "    accuracy                           0.78       830\n",
      "   macro avg       0.79      0.75      0.75       830\n",
      "weighted avg       0.79      0.78      0.77       830\n",
      "\n",
      "MSE: 0.21927710843373494\n",
      "RMSE: 0.46827033691419634\n",
      "MAE: 0.21927710843373494\n",
      "R²: 0.08542159848397679\n"
     ]
    }
   ],
   "source": [
    "\n",
    "X = df.drop('LeaveOrNot', axis=1)  # Features\n",
    "y = df['LeaveOrNot']  # Target\n",
    "\n",
    "# Splitting data into 70:30\n",
    "X_train, X_test, y_train, y_test = train_test_split(X, y, test_size=0.3, random_state=42)\n",
    "\n",
    "# Define preprocessing for numeric and categorical data\n",
    "numeric_features = X_train.select_dtypes(include=['int64', 'float64']).columns\n",
    "categorical_features = X_train.select_dtypes(include=['object']).columns\n",
    "\n",
    "preprocessor = ColumnTransformer(\n",
    "    transformers=[\n",
    "        ('num', StandardScaler(), numeric_features),\n",
    "        ('cat', OneHotEncoder(), categorical_features)\n",
    "    ])\n",
    "\n",
    "\n",
    "svm_pipeline = Pipeline(steps=[\n",
    "    ('preprocessor', preprocessor),\n",
    "    ('classifier', SVC(gamma='auto'))\n",
    "])\n",
    "\n",
    "# Training\n",
    "svm_pipeline.fit(X_train, y_train)\n",
    "svm_predictions = svm_pipeline.predict(X_test)\n",
    "\n",
    "# Calculate accuracy\n",
    "svm_accuracy = accuracy_score(y_test, svm_predictions)\n",
    "report = classification_report(y_test, svm_predictions)\n",
    "\n",
    "\n",
    "mse = mean_squared_error(y_test, svm_predictions)\n",
    "rmse = np.sqrt(mse)\n",
    "mae = mean_absolute_error(y_test, svm_predictions)\n",
    "r2 = r2_score(y_test, svm_predictions)\n",
    "\n",
    "#Scores\n",
    "print(f\"SVM Accuracy: {svm_accuracy}\")\n",
    "print(report)\n",
    "print(f\"MSE: {mse}\")\n",
    "print(f\"RMSE: {rmse}\")\n",
    "print(f\"MAE: {mae}\")\n",
    "print(f\"R²: {r2}\")\n"
   ]
  },
  {
   "cell_type": "code",
   "execution_count": null,
   "id": "d0fd2294",
   "metadata": {},
   "outputs": [],
   "source": []
  },
  {
   "cell_type": "markdown",
   "id": "839dde83",
   "metadata": {},
   "source": [
    "### Decision tree using Sklearn"
   ]
  },
  {
   "cell_type": "code",
   "execution_count": 31,
   "id": "d0767399",
   "metadata": {},
   "outputs": [
    {
     "name": "stdout",
     "output_type": "stream",
     "text": [
      "Decision Tree Accuracy: 0.6951807228915663\n",
      "              precision    recall  f1-score   support\n",
      "\n",
      "           0       0.74      0.76      0.75       499\n",
      "           1       0.62      0.60      0.61       331\n",
      "\n",
      "    accuracy                           0.70       830\n",
      "   macro avg       0.68      0.68      0.68       830\n",
      "weighted avg       0.69      0.70      0.69       830\n",
      "\n",
      "MSE: 0.30481927710843376\n",
      "RMSE: 0.5521044077965994\n",
      "MAE: 0.30481927710843376\n",
      "R²: -0.271364481228318\n"
     ]
    }
   ],
   "source": [
    "\n",
    "X = df.drop('LeaveOrNot', axis=1)\n",
    "y = df['LeaveOrNot']\n",
    "\n",
    "# Splitting data into 70:30\n",
    "X_train, X_test, y_train, y_test = train_test_split(X, y, test_size=0.3, random_state=42)\n",
    "\n",
    "\n",
    "numeric_features = X_train.select_dtypes(include=['int64', 'float64']).columns\n",
    "categorical_features = X_train.select_dtypes(include=['object']).columns\n",
    "\n",
    "preprocessor = ColumnTransformer(\n",
    "    transformers=[\n",
    "        ('num', StandardScaler(), numeric_features),\n",
    "        ('cat', OneHotEncoder(), categorical_features)\n",
    "    ])\n",
    "\n",
    "# Create a pipeline for Decision Tree\n",
    "tree_pipeline = Pipeline(steps=[\n",
    "    ('preprocessor', preprocessor),\n",
    "    ('classifier', DecisionTreeClassifier(random_state=42))\n",
    "])\n",
    "\n",
    "# Training\n",
    "tree_pipeline.fit(X_train, y_train)\n",
    "tree_predictions = tree_pipeline.predict(X_test)\n",
    "\n",
    "# Calculations\n",
    "tree_accuracy = accuracy_score(y_test, tree_predictions)\n",
    "report = classification_report(y_test, tree_predictions)\n",
    "\n",
    "mse = mean_squared_error(y_test, tree_predictions)\n",
    "rmse = np.sqrt(mse)\n",
    "mae = mean_absolute_error(y_test, tree_predictions)\n",
    "r2 = r2_score(y_test, tree_predictions)\n",
    "print(f\"Decision Tree Accuracy: {tree_accuracy}\")\n",
    "print(report)\n",
    "print(f'MSE: {mse}')\n",
    "print(f'RMSE: {rmse}')\n",
    "print(f'MAE: {mae}')\n",
    "print(f'R²: {r2}')\n"
   ]
  },
  {
   "cell_type": "markdown",
   "id": "b75a1caa",
   "metadata": {},
   "source": [
    "### Decision tree using Xgboost"
   ]
  },
  {
   "cell_type": "code",
   "execution_count": 27,
   "id": "6013994b",
   "metadata": {},
   "outputs": [
    {
     "name": "stdout",
     "output_type": "stream",
     "text": [
      "XGBoost Accuracy: 0.7590361445783133\n",
      "              precision    recall  f1-score   support\n",
      "\n",
      "           0       0.77      0.86      0.81       499\n",
      "           1       0.74      0.61      0.67       331\n",
      "\n",
      "    accuracy                           0.76       830\n",
      "   macro avg       0.75      0.73      0.74       830\n",
      "weighted avg       0.76      0.76      0.75       830\n",
      "\n",
      "MSE: 0.24096385542168675\n",
      "RMSE: 0.490880693673816\n",
      "MAE: 0.24096385542168675\n",
      "R²: -0.005031210457168367\n"
     ]
    }
   ],
   "source": [
    "X = df.drop('LeaveOrNot', axis=1)\n",
    "y = df['LeaveOrNot']\n",
    "\n",
    "# Splitting data into 70:30\n",
    "X_train, X_test, y_train, y_test = train_test_split(X, y, test_size=0.3, random_state=42)\n",
    "\n",
    "numeric_features = X_train.select_dtypes(include=['int64', 'float64']).columns\n",
    "categorical_features = X_train.select_dtypes(include=['object']).columns\n",
    "\n",
    "preprocessor = ColumnTransformer(\n",
    "    transformers=[\n",
    "        ('num', StandardScaler(), numeric_features),\n",
    "        ('cat', OneHotEncoder(), categorical_features)\n",
    "    ])\n",
    "\n",
    "# pipeline for XGBoost\n",
    "xgb_pipeline = Pipeline(steps=[\n",
    "    ('preprocessor', preprocessor),\n",
    "    ('classifier', xgb.XGBClassifier(random_state=42))\n",
    "])\n",
    "\n",
    "# Training\n",
    "xgb_pipeline.fit(X_train, y_train)\n",
    "xgb_predictions = xgb_pipeline.predict(X_test)\n",
    "xgb_accuracy = accuracy_score(y_test, xgb_predictions)\n",
    "xgb_report = classification_report(y_test, xgb_predictions)\n",
    "\n",
    "xgb_mse = mean_squared_error(y_test, xgb_predictions)\n",
    "xgb_rmse = np.sqrt(xgb_mse)\n",
    "xgb_mae = mean_absolute_error(y_test, xgb_predictions)\n",
    "xgb_r2 = r2_score(y_test, xgb_predictions)\n",
    "\n",
    "# Calculations \n",
    "print(f\"XGBoost Accuracy: {xgb_accuracy}\")\n",
    "print(xgb_report)\n",
    "\n",
    "# Output results\n",
    "print(f'MSE: {xgb_mse}')\n",
    "print(f'RMSE: {xgb_rmse}')\n",
    "print(f'MAE: {xgb_mae}')\n",
    "print(f'R²: {xgb_r2}')"
   ]
  },
  {
   "cell_type": "markdown",
   "id": "a4810572",
   "metadata": {},
   "source": [
    "### SVM using LibSVM"
   ]
  },
  {
   "cell_type": "code",
   "execution_count": 29,
   "id": "e9853089",
   "metadata": {},
   "outputs": [
    {
     "name": "stdout",
     "output_type": "stream",
     "text": [
      "LibSVM (SVC) Accuracy: 0.791566265060241\n",
      "              precision    recall  f1-score   support\n",
      "\n",
      "           0       0.77      0.93      0.84       499\n",
      "           1       0.85      0.58      0.69       331\n",
      "\n",
      "    accuracy                           0.79       830\n",
      "   macro avg       0.81      0.76      0.77       830\n",
      "weighted avg       0.80      0.79      0.78       830\n",
      "\n",
      "MSE: 0.20843373493975903\n",
      "RMSE: 0.45654543578899026\n",
      "MAE: 0.20843373493975903\n",
      "R²: 0.13064800295454937\n"
     ]
    }
   ],
   "source": [
    "X = df.drop('LeaveOrNot', axis=1)\n",
    "y = df['LeaveOrNot']\n",
    "# Splitting data into 70:30\n",
    "X_train, X_test, y_train, y_test = train_test_split(X, y, test_size=0.3, random_state=42)\n",
    "numeric_features = X_train.select_dtypes(include=['int64', 'float64']).columns\n",
    "categorical_features = X_train.select_dtypes(include=['object']).columns\n",
    "\n",
    "preprocessor = ColumnTransformer(\n",
    "    transformers=[\n",
    "        ('num', StandardScaler(), numeric_features),\n",
    "        ('cat', OneHotEncoder(), categorical_features)\n",
    "    ])\n",
    "\n",
    "#pipeline for SVM\n",
    "svm_pipeline = Pipeline(steps=[\n",
    "    ('preprocessor', preprocessor),\n",
    "    ('classifier', SVC(random_state=42))\n",
    "])\n",
    "\n",
    "# Training\n",
    "svm_pipeline.fit(X_train, y_train)\n",
    "svm_predictions = svm_pipeline.predict(X_test)\n",
    "\n",
    "svm_accuracy = accuracy_score(y_test, svm_predictions)\n",
    "report = classification_report(y_test, svm_predictions)\n",
    "\n",
    "# Calculations\n",
    "mse = mean_squared_error(y_test, svm_predictions)\n",
    "rmse = np.sqrt(mse)\n",
    "mae = mean_absolute_error(y_test, svm_predictions)\n",
    "r2 = r2_score(y_test, svm_predictions)\n",
    "\n",
    "print(f\"LibSVM (SVC) Accuracy: {svm_accuracy}\")\n",
    "print(report)\n",
    "print(f'MSE: {mse}')\n",
    "print(f'RMSE: {rmse}')\n",
    "print(f'MAE: {mae}')\n",
    "print(f'R²: {r2}')"
   ]
  },
  {
   "cell_type": "code",
   "execution_count": null,
   "id": "dd476ff2",
   "metadata": {},
   "outputs": [],
   "source": []
  },
  {
   "cell_type": "code",
   "execution_count": null,
   "id": "6e74d43a",
   "metadata": {},
   "outputs": [],
   "source": []
  }
 ],
 "metadata": {
  "kernelspec": {
   "display_name": "Python 3 (ipykernel)",
   "language": "python",
   "name": "python3"
  },
  "language_info": {
   "codemirror_mode": {
    "name": "ipython",
    "version": 3
   },
   "file_extension": ".py",
   "mimetype": "text/x-python",
   "name": "python",
   "nbconvert_exporter": "python",
   "pygments_lexer": "ipython3",
   "version": "3.11.5"
  }
 },
 "nbformat": 4,
 "nbformat_minor": 5
}
